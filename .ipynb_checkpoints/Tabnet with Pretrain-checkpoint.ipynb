{
 "cells": [
  {
   "cell_type": "code",
   "execution_count": 44,
   "id": "4e7508f5",
   "metadata": {},
   "outputs": [],
   "source": [
    "import numpy as np\n",
    "import pandas as pd\n",
    "\n",
    "import warnings\n",
    "warnings.filterwarnings('ignore')"
   ]
  },
  {
   "cell_type": "code",
   "execution_count": 45,
   "id": "ecaedcc5",
   "metadata": {},
   "outputs": [
    {
     "data": {
      "text/html": [
       "<div>\n",
       "<style scoped>\n",
       "    .dataframe tbody tr th:only-of-type {\n",
       "        vertical-align: middle;\n",
       "    }\n",
       "\n",
       "    .dataframe tbody tr th {\n",
       "        vertical-align: top;\n",
       "    }\n",
       "\n",
       "    .dataframe thead th {\n",
       "        text-align: right;\n",
       "    }\n",
       "</style>\n",
       "<table border=\"1\" class=\"dataframe\">\n",
       "  <thead>\n",
       "    <tr style=\"text-align: right;\">\n",
       "      <th></th>\n",
       "      <th>id</th>\n",
       "      <th>age</th>\n",
       "      <th>gender</th>\n",
       "      <th>height</th>\n",
       "      <th>weight</th>\n",
       "      <th>ap_hi</th>\n",
       "      <th>ap_lo</th>\n",
       "      <th>cholesterol</th>\n",
       "      <th>gluc</th>\n",
       "      <th>smoke</th>\n",
       "      <th>alco</th>\n",
       "      <th>active</th>\n",
       "      <th>cardio</th>\n",
       "      <th>output</th>\n",
       "    </tr>\n",
       "  </thead>\n",
       "  <tbody>\n",
       "    <tr>\n",
       "      <th>0</th>\n",
       "      <td>0</td>\n",
       "      <td>18393</td>\n",
       "      <td>2</td>\n",
       "      <td>168</td>\n",
       "      <td>62</td>\n",
       "      <td>0</td>\n",
       "      <td>110</td>\n",
       "      <td>80</td>\n",
       "      <td>1</td>\n",
       "      <td>1</td>\n",
       "      <td>0</td>\n",
       "      <td>0</td>\n",
       "      <td>1</td>\n",
       "      <td>0</td>\n",
       "    </tr>\n",
       "    <tr>\n",
       "      <th>1</th>\n",
       "      <td>1</td>\n",
       "      <td>20228</td>\n",
       "      <td>1</td>\n",
       "      <td>156</td>\n",
       "      <td>85</td>\n",
       "      <td>0</td>\n",
       "      <td>140</td>\n",
       "      <td>90</td>\n",
       "      <td>3</td>\n",
       "      <td>1</td>\n",
       "      <td>0</td>\n",
       "      <td>0</td>\n",
       "      <td>1</td>\n",
       "      <td>1</td>\n",
       "    </tr>\n",
       "    <tr>\n",
       "      <th>2</th>\n",
       "      <td>2</td>\n",
       "      <td>18857</td>\n",
       "      <td>1</td>\n",
       "      <td>165</td>\n",
       "      <td>64</td>\n",
       "      <td>0</td>\n",
       "      <td>130</td>\n",
       "      <td>70</td>\n",
       "      <td>3</td>\n",
       "      <td>1</td>\n",
       "      <td>0</td>\n",
       "      <td>0</td>\n",
       "      <td>0</td>\n",
       "      <td>1</td>\n",
       "    </tr>\n",
       "    <tr>\n",
       "      <th>3</th>\n",
       "      <td>3</td>\n",
       "      <td>17623</td>\n",
       "      <td>2</td>\n",
       "      <td>169</td>\n",
       "      <td>82</td>\n",
       "      <td>0</td>\n",
       "      <td>150</td>\n",
       "      <td>100</td>\n",
       "      <td>1</td>\n",
       "      <td>1</td>\n",
       "      <td>0</td>\n",
       "      <td>0</td>\n",
       "      <td>1</td>\n",
       "      <td>1</td>\n",
       "    </tr>\n",
       "    <tr>\n",
       "      <th>4</th>\n",
       "      <td>4</td>\n",
       "      <td>17474</td>\n",
       "      <td>1</td>\n",
       "      <td>156</td>\n",
       "      <td>56</td>\n",
       "      <td>0</td>\n",
       "      <td>100</td>\n",
       "      <td>60</td>\n",
       "      <td>1</td>\n",
       "      <td>1</td>\n",
       "      <td>0</td>\n",
       "      <td>0</td>\n",
       "      <td>0</td>\n",
       "      <td>0</td>\n",
       "    </tr>\n",
       "  </tbody>\n",
       "</table>\n",
       "</div>"
      ],
      "text/plain": [
       "   id    age  gender  height  weight  ap_hi  ap_lo  cholesterol  gluc  smoke  \\\n",
       "0   0  18393       2     168      62      0    110           80     1      1   \n",
       "1   1  20228       1     156      85      0    140           90     3      1   \n",
       "2   2  18857       1     165      64      0    130           70     3      1   \n",
       "3   3  17623       2     169      82      0    150          100     1      1   \n",
       "4   4  17474       1     156      56      0    100           60     1      1   \n",
       "\n",
       "   alco  active  cardio  output  \n",
       "0     0       0       1       0  \n",
       "1     0       0       1       1  \n",
       "2     0       0       0       1  \n",
       "3     0       0       1       1  \n",
       "4     0       0       0       0  "
      ]
     },
     "execution_count": 45,
     "metadata": {},
     "output_type": "execute_result"
    }
   ],
   "source": [
    "data = pd.read_csv(\"cardio_train.csv\")\n",
    "\n",
    "data.head()"
   ]
  },
  {
   "cell_type": "code",
   "execution_count": 46,
   "id": "d956bb49",
   "metadata": {},
   "outputs": [
    {
     "data": {
      "text/plain": [
       "id             0\n",
       "age            0\n",
       "gender         0\n",
       "height         0\n",
       "weight         0\n",
       "ap_hi          0\n",
       "ap_lo          0\n",
       "cholesterol    0\n",
       "gluc           0\n",
       "smoke          0\n",
       "alco           0\n",
       "active         0\n",
       "cardio         0\n",
       "output         0\n",
       "dtype: int64"
      ]
     },
     "execution_count": 46,
     "metadata": {},
     "output_type": "execute_result"
    }
   ],
   "source": [
    "data.isnull().sum()"
   ]
  },
  {
   "cell_type": "code",
   "execution_count": 47,
   "id": "d4e60ad6",
   "metadata": {},
   "outputs": [],
   "source": [
    "import matplotlib.pyplot as plt\n",
    "import seaborn as sns"
   ]
  },
  {
   "cell_type": "markdown",
   "id": "55fc0721",
   "metadata": {},
   "source": [
    "# Outlier Detection and Remove"
   ]
  },
  {
   "cell_type": "code",
   "execution_count": 63,
   "id": "360949d7",
   "metadata": {},
   "outputs": [
    {
     "name": "stdout",
     "output_type": "stream",
     "text": [
      "Index(['age', 'gender', 'height', 'weight', 'ap_hi', 'ap_lo', 'cholesterol',\n",
      "       'gluc', 'smoke', 'alco', 'active', 'cardio'],\n",
      "      dtype='object')\n"
     ]
    }
   ],
   "source": [
    "X=data.iloc[:,1:-1].to_numpy()\n",
    "y=data.iloc[:,-1:].to_numpy().squeeze()\n",
    "colu = data.iloc[:,1:-1]\n",
    "# print(colu.columns)"
   ]
  },
  {
   "cell_type": "code",
   "execution_count": 49,
   "id": "7ee57db2",
   "metadata": {},
   "outputs": [],
   "source": [
    "def outlier(coloumn):\n",
    "    Q1 = coloumn.quantile(0.25)\n",
    "    Q3 = coloumn.quantile(0.75)\n",
    "    IQR = Q3 - Q1\n",
    "    whisker_width = 1.5\n",
    "    lower_whisker = Q1 -(whisker_width*IQR)\n",
    "    upper_whisker = Q3 + (whisker_width*IQR)\n",
    "    coloumn=np.where(coloumn>upper_whisker,upper_whisker,np.where(coloumn<lower_whisker,lower_whisker,coloumn))\n",
    "    return coloumn"
   ]
  },
  {
   "cell_type": "code",
   "execution_count": 50,
   "id": "d30efd57",
   "metadata": {},
   "outputs": [
    {
     "data": {
      "image/png": "[encoded data removed]",
      "text/plain": [
       "<Figure size 432x288 with 1 Axes>"
      ]
     },
     "metadata": {
      "needs_background": "light"
     },
     "output_type": "display_data"
    },
    {
     "data": {
      "image/png": "[encoded data removed]",
      "text/plain": [
       "<Figure size 1440x360 with 1 Axes>"
      ]
     },
     "metadata": {
      "needs_background": "light"
     },
     "output_type": "display_data"
    },
    {
     "data": {
      "image/png": "[encoded data removed]",
      "text/plain": [
       "<Figure size 1440x360 with 1 Axes>"
      ]
     },
     "metadata": {
      "needs_background": "light"
     },
     "output_type": "display_data"
    },
    {
     "data": {
      "image/png": "[encoded data removed]",
      "text/plain": [
       "<Figure size 1440x360 with 1 Axes>"
      ]
     },
     "metadata": {
      "needs_background": "light"
     },
     "output_type": "display_data"
    },
    {
     "data": {
      "image/png": "[encoded data removed]",
      "text/plain": [
       "<Figure size 1440x360 with 1 Axes>"
      ]
     },
     "metadata": {
      "needs_background": "light"
     },
     "output_type": "display_data"
    },
    {
     "data": {
      "image/png": "[encoded data removed]",
      "text/plain": [
       "<Figure size 1440x360 with 1 Axes>"
      ]
     },
     "metadata": {
      "needs_background": "light"
     },
     "output_type": "display_data"
    },
    {
     "data": {
      "text/plain": [
       "<Figure size 1440x360 with 0 Axes>"
      ]
     },
     "metadata": {},
     "output_type": "display_data"
    }
   ],
   "source": [
    "numerical_cols=['age','height','weight','ap_lo','cholesterol','ap_hi']\n",
    "for feature in numerical_cols:\n",
    "    sns.boxplot(data[feature])\n",
    "    plt.figure(figsize=(20,5))"
   ]
  },
  {
   "cell_type": "code",
   "execution_count": 51,
   "id": "9673651f",
   "metadata": {},
   "outputs": [],
   "source": [
    "for i in data.iloc[:,1:-1]:\n",
    "    data[i] = outlier(data[i])\n",
    "    "
   ]
  },
  {
   "cell_type": "code",
   "execution_count": 52,
   "id": "beaf5a5d",
   "metadata": {
    "scrolled": true
   },
   "outputs": [
    {
     "data": {
      "image/png": "[encoded data removed]",
      "text/plain": [
       "<Figure size 432x288 with 1 Axes>"
      ]
     },
     "metadata": {
      "needs_background": "light"
     },
     "output_type": "display_data"
    },
    {
     "data": {
      "image/png": "[encoded data removed]",
      "text/plain": [
       "<Figure size 1440x360 with 1 Axes>"
      ]
     },
     "metadata": {
      "needs_background": "light"
     },
     "output_type": "display_data"
    },
    {
     "data": {
      "image/png": "[encoded data removed]",
      "text/plain": [
       "<Figure size 1440x360 with 1 Axes>"
      ]
     },
     "metadata": {
      "needs_background": "light"
     },
     "output_type": "display_data"
    },
    {
     "data": {
      "image/png": "[encoded data removed]",
      "text/plain": [
       "<Figure size 1440x360 with 1 Axes>"
      ]
     },
     "metadata": {
      "needs_background": "light"
     },
     "output_type": "display_data"
    },
    {
     "data": {
      "image/png": "[encoded data removed]",
      "text/plain": [
       "<Figure size 1440x360 with 1 Axes>"
      ]
     },
     "metadata": {
      "needs_background": "light"
     },
     "output_type": "display_data"
    },
    {
     "data": {
      "image/png": "[encoded data removed]",
      "text/plain": [
       "<Figure size 1440x360 with 1 Axes>"
      ]
     },
     "metadata": {
      "needs_background": "light"
     },
     "output_type": "display_data"
    },
    {
     "data": {
      "text/plain": [
       "<Figure size 1440x360 with 0 Axes>"
      ]
     },
     "metadata": {},
     "output_type": "display_data"
    }
   ],
   "source": [
    "for feature in numerical_cols:\n",
    "    sns.boxplot(data[feature])\n",
    "    plt.figure(figsize=(20,5))"
   ]
  },
  {
   "cell_type": "code",
   "execution_count": 23,
   "id": "cae8ddb8",
   "metadata": {},
   "outputs": [
    {
     "name": "stdout",
     "output_type": "stream",
     "text": [
      "Missing: 0\n",
      "Missing: 0\n"
     ]
    }
   ],
   "source": [
    "from numpy import isnan\n",
    "from sklearn.impute import KNNImputer\n",
    "# print total missing\n",
    "print('Missing: %d' % sum(isnan(X).flatten()))\n",
    "# define imputer\n",
    "imputer = KNNImputer(missing_values=np.nan)\n",
    "# fit on the dataset\n",
    "imputer.fit(X)\n",
    "# transform the dataset\n",
    "features_trans = imputer.transform(X)\n",
    "# print total missing\n",
    "print('Missing: %d' % sum(isnan(features_trans).flatten()))"
   ]
  },
  {
   "cell_type": "code",
   "execution_count": 24,
   "id": "31422dd2",
   "metadata": {
    "scrolled": true
   },
   "outputs": [
    {
     "name": "stdout",
     "output_type": "stream",
     "text": [
      "X train shape:  (49000, 12)\n",
      "X validation shape:  (10500, 12)\n",
      "X test shape:  (10500, 12)\n",
      "Y train shape:  (49000,)\n",
      "Y validation shape:  (10500,)\n",
      "Y test shape:  (10500,)\n"
     ]
    }
   ],
   "source": [
    "from sklearn.model_selection import train_test_split\n",
    "x_train, x_val, y_train, y_val = train_test_split(X, y, test_size=0.30, random_state=8)\n",
    "\n",
    "x_val, x_test, y_val, y_test = train_test_split(x_val, y_val, test_size=0.50, random_state=8)\n",
    "\n",
    "print(\"X train shape: \", x_train.shape)\n",
    "print(\"X validation shape: \", x_val.shape)\n",
    "print(\"X test shape: \", x_test.shape)\n",
    "print(\"Y train shape: \", y_train.shape)\n",
    "print(\"Y validation shape: \", y_val.shape)\n",
    "print(\"Y test shape: \", y_test.shape)"
   ]
  },
  {
   "cell_type": "code",
   "execution_count": 25,
   "id": "5dd7ef0e",
   "metadata": {},
   "outputs": [
    {
     "data": {
      "text/plain": [
       "(70000, 14)"
      ]
     },
     "execution_count": 25,
     "metadata": {},
     "output_type": "execute_result"
    }
   ],
   "source": [
    "data.shape"
   ]
  },
  {
   "cell_type": "code",
   "execution_count": 26,
   "id": "cbb24eea",
   "metadata": {},
   "outputs": [],
   "source": [
    "import pytorch_tabnet\n",
    "from pytorch_tabnet.tab_model import TabNetClassifier\n",
    "import torch\n",
    "\n",
    "from sklearn.preprocessing import LabelEncoder\n",
    "from sklearn.metrics import roc_auc_score, accuracy_score"
   ]
  },
  {
   "cell_type": "code",
   "execution_count": 27,
   "id": "6890ae7b",
   "metadata": {},
   "outputs": [],
   "source": [
    "# define the model\n",
    "clf1_nopreproc = TabNetClassifier(optimizer_fn=torch.optim.Adam,\n",
    "                       optimizer_params=dict(lr=2e-2),\n",
    "                       scheduler_params={\"step_size\":10, \n",
    "                                         \"gamma\":0.9},\n",
    "                       scheduler_fn=torch.optim.lr_scheduler.StepLR,\n",
    "                       mask_type='entmax' \n",
    "                      )\n",
    "\n",
    "           "
   ]
  },
  {
   "cell_type": "code",
   "execution_count": 28,
   "id": "8ab036e6",
   "metadata": {},
   "outputs": [
    {
     "name": "stdout",
     "output_type": "stream",
     "text": [
      "epoch 0  | loss: 0.56761 | train_auc: 0.65433 | train_accuracy: 0.53514 | valid_auc: 0.6585  | valid_accuracy: 0.52924 |  0:00:08s\n",
      "epoch 1  | loss: 0.55046 | train_auc: 0.79494 | train_accuracy: 0.72853 | valid_auc: 0.80122 | valid_accuracy: 0.73514 |  0:00:16s\n",
      "epoch 2  | loss: 0.55043 | train_auc: 0.79504 | train_accuracy: 0.72794 | valid_auc: 0.80191 | valid_accuracy: 0.73724 |  0:00:24s\n",
      "epoch 3  | loss: 0.55023 | train_auc: 0.7955  | train_accuracy: 0.72839 | valid_auc: 0.80077 | valid_accuracy: 0.73124 |  0:00:32s\n",
      "epoch 4  | loss: 0.54901 | train_auc: 0.79546 | train_accuracy: 0.73273 | valid_auc: 0.80104 | valid_accuracy: 0.73914 |  0:00:41s\n",
      "epoch 5  | loss: 0.55107 | train_auc: 0.79718 | train_accuracy: 0.73047 | valid_auc: 0.80382 | valid_accuracy: 0.73676 |  0:00:49s\n",
      "epoch 6  | loss: 0.54827 | train_auc: 0.7964  | train_accuracy: 0.72982 | valid_auc: 0.80152 | valid_accuracy: 0.73114 |  0:00:56s\n",
      "epoch 7  | loss: 0.54702 | train_auc: 0.7961  | train_accuracy: 0.72641 | valid_auc: 0.80289 | valid_accuracy: 0.73038 |  0:01:04s\n",
      "epoch 8  | loss: 0.54813 | train_auc: 0.79718 | train_accuracy: 0.73435 | valid_auc: 0.80345 | valid_accuracy: 0.73924 |  0:01:11s\n",
      "epoch 9  | loss: 0.54911 | train_auc: 0.79683 | train_accuracy: 0.7309  | valid_auc: 0.80204 | valid_accuracy: 0.73476 |  0:01:19s\n",
      "epoch 10 | loss: 0.54841 | train_auc: 0.79798 | train_accuracy: 0.73235 | valid_auc: 0.80426 | valid_accuracy: 0.7339  |  0:01:26s\n",
      "epoch 11 | loss: 0.54652 | train_auc: 0.79773 | train_accuracy: 0.73367 | valid_auc: 0.80246 | valid_accuracy: 0.73752 |  0:01:35s\n",
      "epoch 12 | loss: 0.5481  | train_auc: 0.79658 | train_accuracy: 0.73102 | valid_auc: 0.80295 | valid_accuracy: 0.7361  |  0:01:44s\n",
      "epoch 13 | loss: 0.54658 | train_auc: 0.79765 | train_accuracy: 0.73265 | valid_auc: 0.80323 | valid_accuracy: 0.73752 |  0:01:52s\n",
      "epoch 14 | loss: 0.54933 | train_auc: 0.79848 | train_accuracy: 0.73259 | valid_auc: 0.80392 | valid_accuracy: 0.73771 |  0:02:01s\n",
      "epoch 15 | loss: 0.54892 | train_auc: 0.79819 | train_accuracy: 0.73241 | valid_auc: 0.80453 | valid_accuracy: 0.7401  |  0:02:09s\n",
      "epoch 16 | loss: 0.54957 | train_auc: 0.79762 | train_accuracy: 0.73235 | valid_auc: 0.80457 | valid_accuracy: 0.73886 |  0:02:18s\n",
      "epoch 17 | loss: 0.54542 | train_auc: 0.79884 | train_accuracy: 0.73167 | valid_auc: 0.80505 | valid_accuracy: 0.74124 |  0:02:27s\n",
      "epoch 18 | loss: 0.5474  | train_auc: 0.79759 | train_accuracy: 0.73073 | valid_auc: 0.80414 | valid_accuracy: 0.74067 |  0:02:35s\n",
      "epoch 19 | loss: 0.54628 | train_auc: 0.79906 | train_accuracy: 0.73241 | valid_auc: 0.80483 | valid_accuracy: 0.73724 |  0:02:42s\n",
      "epoch 20 | loss: 0.54572 | train_auc: 0.79822 | train_accuracy: 0.73159 | valid_auc: 0.8036  | valid_accuracy: 0.73819 |  0:02:50s\n",
      "epoch 21 | loss: 0.54729 | train_auc: 0.79816 | train_accuracy: 0.73278 | valid_auc: 0.80517 | valid_accuracy: 0.73876 |  0:02:59s\n",
      "epoch 22 | loss: 0.54425 | train_auc: 0.79855 | train_accuracy: 0.73241 | valid_auc: 0.80332 | valid_accuracy: 0.73533 |  0:03:07s\n",
      "epoch 23 | loss: 0.54965 | train_auc: 0.79812 | train_accuracy: 0.7322  | valid_auc: 0.80423 | valid_accuracy: 0.73933 |  0:03:17s\n",
      "epoch 24 | loss: 0.54375 | train_auc: 0.79773 | train_accuracy: 0.73259 | valid_auc: 0.80368 | valid_accuracy: 0.738   |  0:03:26s\n",
      "epoch 25 | loss: 0.53928 | train_auc: 0.79843 | train_accuracy: 0.73298 | valid_auc: 0.80435 | valid_accuracy: 0.73971 |  0:03:34s\n",
      "epoch 26 | loss: 0.54428 | train_auc: 0.79888 | train_accuracy: 0.73269 | valid_auc: 0.80434 | valid_accuracy: 0.73676 |  0:03:42s\n",
      "epoch 27 | loss: 0.5455  | train_auc: 0.79769 | train_accuracy: 0.73263 | valid_auc: 0.80447 | valid_accuracy: 0.738   |  0:03:50s\n",
      "epoch 28 | loss: 0.54665 | train_auc: 0.79922 | train_accuracy: 0.73071 | valid_auc: 0.80466 | valid_accuracy: 0.73648 |  0:03:57s\n",
      "epoch 29 | loss: 0.55006 | train_auc: 0.79886 | train_accuracy: 0.732   | valid_auc: 0.80356 | valid_accuracy: 0.73476 |  0:04:06s\n",
      "epoch 30 | loss: 0.54814 | train_auc: 0.79993 | train_accuracy: 0.73333 | valid_auc: 0.80458 | valid_accuracy: 0.7361  |  0:04:14s\n",
      "epoch 31 | loss: 0.54801 | train_auc: 0.79964 | train_accuracy: 0.73296 | valid_auc: 0.80531 | valid_accuracy: 0.73848 |  0:04:21s\n",
      "epoch 32 | loss: 0.54717 | train_auc: 0.79927 | train_accuracy: 0.73106 | valid_auc: 0.80473 | valid_accuracy: 0.73771 |  0:04:30s\n",
      "epoch 33 | loss: 0.54674 | train_auc: 0.79839 | train_accuracy: 0.73004 | valid_auc: 0.80461 | valid_accuracy: 0.73886 |  0:04:39s\n",
      "epoch 34 | loss: 0.54252 | train_auc: 0.79945 | train_accuracy: 0.73371 | valid_auc: 0.80524 | valid_accuracy: 0.73962 |  0:04:47s\n",
      "epoch 35 | loss: 0.54364 | train_auc: 0.79848 | train_accuracy: 0.7319  | valid_auc: 0.80419 | valid_accuracy: 0.73724 |  0:04:55s\n",
      "epoch 36 | loss: 0.5459  | train_auc: 0.79974 | train_accuracy: 0.73382 | valid_auc: 0.80427 | valid_accuracy: 0.73943 |  0:05:03s\n",
      "epoch 37 | loss: 0.54581 | train_auc: 0.80023 | train_accuracy: 0.73329 | valid_auc: 0.80371 | valid_accuracy: 0.74019 |  0:05:11s\n",
      "epoch 38 | loss: 0.54877 | train_auc: 0.80002 | train_accuracy: 0.73359 | valid_auc: 0.80492 | valid_accuracy: 0.74267 |  0:05:19s\n",
      "epoch 39 | loss: 0.54429 | train_auc: 0.79939 | train_accuracy: 0.73394 | valid_auc: 0.80316 | valid_accuracy: 0.73752 |  0:05:28s\n",
      "epoch 40 | loss: 0.54884 | train_auc: 0.79972 | train_accuracy: 0.73445 | valid_auc: 0.80462 | valid_accuracy: 0.738   |  0:05:36s\n",
      "epoch 41 | loss: 0.54608 | train_auc: 0.79894 | train_accuracy: 0.73102 | valid_auc: 0.80428 | valid_accuracy: 0.73829 |  0:05:45s\n",
      "epoch 42 | loss: 0.54368 | train_auc: 0.80011 | train_accuracy: 0.7341  | valid_auc: 0.80455 | valid_accuracy: 0.73648 |  0:05:53s\n",
      "epoch 43 | loss: 0.5436  | train_auc: 0.79948 | train_accuracy: 0.73408 | valid_auc: 0.8052  | valid_accuracy: 0.73829 |  0:06:01s\n",
      "epoch 44 | loss: 0.54386 | train_auc: 0.79983 | train_accuracy: 0.73457 | valid_auc: 0.80454 | valid_accuracy: 0.73848 |  0:06:09s\n",
      "epoch 45 | loss: 0.54851 | train_auc: 0.80092 | train_accuracy: 0.73453 | valid_auc: 0.8054  | valid_accuracy: 0.73838 |  0:06:18s\n",
      "epoch 46 | loss: 0.54433 | train_auc: 0.80017 | train_accuracy: 0.73471 | valid_auc: 0.80428 | valid_accuracy: 0.73933 |  0:06:25s\n",
      "epoch 47 | loss: 0.5452  | train_auc: 0.79842 | train_accuracy: 0.72978 | valid_auc: 0.80175 | valid_accuracy: 0.73314 |  0:06:32s\n",
      "epoch 48 | loss: 0.54373 | train_auc: 0.80026 | train_accuracy: 0.73345 | valid_auc: 0.80516 | valid_accuracy: 0.73781 |  0:06:40s\n",
      "epoch 49 | loss: 0.54564 | train_auc: 0.80106 | train_accuracy: 0.73343 | valid_auc: 0.80615 | valid_accuracy: 0.7399  |  0:06:48s\n",
      "epoch 50 | loss: 0.54282 | train_auc: 0.80134 | train_accuracy: 0.73441 | valid_auc: 0.80542 | valid_accuracy: 0.73629 |  0:06:58s\n",
      "epoch 51 | loss: 0.54614 | train_auc: 0.80096 | train_accuracy: 0.73404 | valid_auc: 0.80538 | valid_accuracy: 0.73895 |  0:07:07s\n",
      "epoch 52 | loss: 0.54198 | train_auc: 0.80053 | train_accuracy: 0.73341 | valid_auc: 0.80383 | valid_accuracy: 0.73819 |  0:07:16s\n",
      "epoch 53 | loss: 0.54181 | train_auc: 0.80053 | train_accuracy: 0.73455 | valid_auc: 0.80528 | valid_accuracy: 0.73686 |  0:07:26s\n",
      "epoch 54 | loss: 0.54212 | train_auc: 0.80018 | train_accuracy: 0.73308 | valid_auc: 0.80329 | valid_accuracy: 0.74086 |  0:07:35s\n",
      "epoch 55 | loss: 0.54352 | train_auc: 0.80179 | train_accuracy: 0.73533 | valid_auc: 0.80523 | valid_accuracy: 0.73743 |  0:07:44s\n",
      "epoch 56 | loss: 0.53887 | train_auc: 0.80068 | train_accuracy: 0.73465 | valid_auc: 0.80449 | valid_accuracy: 0.73771 |  0:07:53s\n",
      "epoch 57 | loss: 0.54716 | train_auc: 0.80016 | train_accuracy: 0.73535 | valid_auc: 0.80484 | valid_accuracy: 0.7401  |  0:08:01s\n",
      "epoch 58 | loss: 0.5445  | train_auc: 0.8004  | train_accuracy: 0.73408 | valid_auc: 0.8049  | valid_accuracy: 0.73714 |  0:08:09s\n",
      "epoch 59 | loss: 0.54302 | train_auc: 0.80101 | train_accuracy: 0.73502 | valid_auc: 0.80374 | valid_accuracy: 0.73476 |  0:08:18s\n",
      "epoch 60 | loss: 0.54568 | train_auc: 0.80079 | train_accuracy: 0.73331 | valid_auc: 0.80547 | valid_accuracy: 0.73905 |  0:08:26s\n",
      "epoch 61 | loss: 0.54355 | train_auc: 0.80177 | train_accuracy: 0.73345 | valid_auc: 0.80612 | valid_accuracy: 0.73952 |  0:08:35s\n",
      "epoch 62 | loss: 0.54208 | train_auc: 0.80166 | train_accuracy: 0.73543 | valid_auc: 0.80515 | valid_accuracy: 0.73867 |  0:08:43s\n"
     ]
    },
    {
     "name": "stdout",
     "output_type": "stream",
     "text": [
      "epoch 63 | loss: 0.54187 | train_auc: 0.80219 | train_accuracy: 0.73555 | valid_auc: 0.80448 | valid_accuracy: 0.73933 |  0:08:51s\n",
      "epoch 64 | loss: 0.54127 | train_auc: 0.8013  | train_accuracy: 0.73514 | valid_auc: 0.80428 | valid_accuracy: 0.73695 |  0:09:00s\n",
      "epoch 65 | loss: 0.54351 | train_auc: 0.80183 | train_accuracy: 0.73559 | valid_auc: 0.80537 | valid_accuracy: 0.73895 |  0:09:08s\n",
      "epoch 66 | loss: 0.53944 | train_auc: 0.80247 | train_accuracy: 0.73559 | valid_auc: 0.80373 | valid_accuracy: 0.73752 |  0:09:17s\n",
      "epoch 67 | loss: 0.54051 | train_auc: 0.80174 | train_accuracy: 0.73488 | valid_auc: 0.80317 | valid_accuracy: 0.73714 |  0:09:25s\n",
      "epoch 68 | loss: 0.54156 | train_auc: 0.80222 | train_accuracy: 0.73527 | valid_auc: 0.80533 | valid_accuracy: 0.73781 |  0:09:34s\n",
      "epoch 69 | loss: 0.53814 | train_auc: 0.80198 | train_accuracy: 0.73416 | valid_auc: 0.80428 | valid_accuracy: 0.73771 |  0:09:42s\n",
      "epoch 70 | loss: 0.53802 | train_auc: 0.80229 | train_accuracy: 0.73578 | valid_auc: 0.80377 | valid_accuracy: 0.73876 |  0:09:51s\n",
      "epoch 71 | loss: 0.54059 | train_auc: 0.80251 | train_accuracy: 0.73598 | valid_auc: 0.80301 | valid_accuracy: 0.73581 |  0:09:59s\n",
      "epoch 72 | loss: 0.54203 | train_auc: 0.80294 | train_accuracy: 0.73547 | valid_auc: 0.8043  | valid_accuracy: 0.73581 |  0:10:08s\n",
      "epoch 73 | loss: 0.54346 | train_auc: 0.80251 | train_accuracy: 0.73443 | valid_auc: 0.80346 | valid_accuracy: 0.7379  |  0:10:16s\n",
      "epoch 74 | loss: 0.53969 | train_auc: 0.80328 | train_accuracy: 0.73551 | valid_auc: 0.80378 | valid_accuracy: 0.73657 |  0:10:25s\n",
      "epoch 75 | loss: 0.54255 | train_auc: 0.80314 | train_accuracy: 0.73563 | valid_auc: 0.80286 | valid_accuracy: 0.73467 |  0:10:33s\n",
      "epoch 76 | loss: 0.54133 | train_auc: 0.80324 | train_accuracy: 0.7362  | valid_auc: 0.80254 | valid_accuracy: 0.73752 |  0:10:42s\n",
      "epoch 77 | loss: 0.54011 | train_auc: 0.80327 | train_accuracy: 0.73616 | valid_auc: 0.80349 | valid_accuracy: 0.73714 |  0:10:50s\n",
      "epoch 78 | loss: 0.53522 | train_auc: 0.80282 | train_accuracy: 0.7352  | valid_auc: 0.803   | valid_accuracy: 0.73714 |  0:10:58s\n",
      "epoch 79 | loss: 0.54477 | train_auc: 0.80165 | train_accuracy: 0.73457 | valid_auc: 0.80242 | valid_accuracy: 0.7361  |  0:11:07s\n",
      "epoch 80 | loss: 0.54302 | train_auc: 0.80355 | train_accuracy: 0.73576 | valid_auc: 0.80389 | valid_accuracy: 0.73867 |  0:11:15s\n",
      "epoch 81 | loss: 0.5391  | train_auc: 0.80324 | train_accuracy: 0.73535 | valid_auc: 0.80189 | valid_accuracy: 0.73533 |  0:11:24s\n",
      "epoch 82 | loss: 0.53799 | train_auc: 0.80353 | train_accuracy: 0.73608 | valid_auc: 0.80276 | valid_accuracy: 0.7381  |  0:11:33s\n",
      "epoch 83 | loss: 0.5423  | train_auc: 0.80401 | train_accuracy: 0.73627 | valid_auc: 0.80236 | valid_accuracy: 0.73629 |  0:11:41s\n",
      "epoch 84 | loss: 0.54061 | train_auc: 0.80391 | train_accuracy: 0.73635 | valid_auc: 0.80277 | valid_accuracy: 0.73667 |  0:11:51s\n",
      "epoch 85 | loss: 0.53795 | train_auc: 0.80409 | train_accuracy: 0.73663 | valid_auc: 0.80287 | valid_accuracy: 0.73619 |  0:12:00s\n",
      "epoch 86 | loss: 0.54079 | train_auc: 0.80386 | train_accuracy: 0.73563 | valid_auc: 0.80396 | valid_accuracy: 0.73876 |  0:12:08s\n",
      "epoch 87 | loss: 0.54218 | train_auc: 0.80443 | train_accuracy: 0.7368  | valid_auc: 0.80316 | valid_accuracy: 0.73705 |  0:12:17s\n",
      "epoch 88 | loss: 0.54356 | train_auc: 0.80419 | train_accuracy: 0.73627 | valid_auc: 0.80226 | valid_accuracy: 0.73743 |  0:12:25s\n",
      "\n",
      "Early stopping occurred at epoch 88 with best_epoch = 38 and best_valid_accuracy = 0.74267\n"
     ]
    }
   ],
   "source": [
    "# fit the model \n",
    "clf1_nopreproc.fit(\n",
    "    X_train=x_train, y_train=y_train,\n",
    "    eval_set=[(x_train, y_train), (x_val, y_val)],\n",
    "    eval_name=['train', 'valid'],\n",
    "    eval_metric=['auc','accuracy'],\n",
    "    max_epochs=1000 , patience=50,\n",
    "    batch_size=256, virtual_batch_size=128,\n",
    "    num_workers=0,\n",
    "    weights=1,\n",
    "    drop_last=False\n",
    ")     "
   ]
  },
  {
   "cell_type": "code",
   "execution_count": 59,
   "id": "ed7283f0",
   "metadata": {},
   "outputs": [
    {
     "ename": "ValueError",
     "evalue": "Length of values (12) does not match length of index (6)",
     "output_type": "error",
     "traceback": [
      "\u001b[1;31m---------------------------------------------------------------------------\u001b[0m",
      "\u001b[1;31mValueError\u001b[0m                                Traceback (most recent call last)",
      "Input \u001b[1;32mIn [59]\u001b[0m, in \u001b[0;36m<cell line: 11>\u001b[1;34m()\u001b[0m\n\u001b[0;32m      9\u001b[0m y_pred \u001b[38;5;241m=\u001b[39m clf1_nopreproc\u001b[38;5;241m.\u001b[39mpredict(x_test)\n\u001b[0;32m     10\u001b[0m clf1_nopreproc\u001b[38;5;241m.\u001b[39mfeature_importances_\n\u001b[1;32m---> 11\u001b[0m feat_importances \u001b[38;5;241m=\u001b[39m \u001b[43mpd\u001b[49m\u001b[38;5;241;43m.\u001b[39;49m\u001b[43mSeries\u001b[49m\u001b[43m(\u001b[49m\u001b[43mclf1_nopreproc\u001b[49m\u001b[38;5;241;43m.\u001b[39;49m\u001b[43mfeature_importances_\u001b[49m\u001b[43m,\u001b[49m\u001b[43m \u001b[49m\u001b[43mindex\u001b[49m\u001b[38;5;241;43m=\u001b[39;49m\u001b[43mnumerical_cols\u001b[49m\u001b[43m)\u001b[49m\n\u001b[0;32m     12\u001b[0m feat_importances\u001b[38;5;241m.\u001b[39mnlargest(\u001b[38;5;241m20\u001b[39m)\u001b[38;5;241m.\u001b[39mplot(kind\u001b[38;5;241m=\u001b[39m\u001b[38;5;124m'\u001b[39m\u001b[38;5;124mbarh\u001b[39m\u001b[38;5;124m'\u001b[39m)\n\u001b[0;32m     15\u001b[0m \u001b[38;5;66;03m# determine best accuracy for test set\u001b[39;00m\n",
      "File \u001b[1;32mC:\\ProgramData\\Anaconda3\\lib\\site-packages\\pandas\\core\\series.py:442\u001b[0m, in \u001b[0;36mSeries.__init__\u001b[1;34m(self, data, index, dtype, name, copy, fastpath)\u001b[0m\n\u001b[0;32m    440\u001b[0m     index \u001b[38;5;241m=\u001b[39m default_index(\u001b[38;5;28mlen\u001b[39m(data))\n\u001b[0;32m    441\u001b[0m \u001b[38;5;28;01melif\u001b[39;00m is_list_like(data):\n\u001b[1;32m--> 442\u001b[0m     \u001b[43mcom\u001b[49m\u001b[38;5;241;43m.\u001b[39;49m\u001b[43mrequire_length_match\u001b[49m\u001b[43m(\u001b[49m\u001b[43mdata\u001b[49m\u001b[43m,\u001b[49m\u001b[43m \u001b[49m\u001b[43mindex\u001b[49m\u001b[43m)\u001b[49m\n\u001b[0;32m    444\u001b[0m \u001b[38;5;66;03m# create/copy the manager\u001b[39;00m\n\u001b[0;32m    445\u001b[0m \u001b[38;5;28;01mif\u001b[39;00m \u001b[38;5;28misinstance\u001b[39m(data, (SingleBlockManager, SingleArrayManager)):\n",
      "File \u001b[1;32mC:\\ProgramData\\Anaconda3\\lib\\site-packages\\pandas\\core\\common.py:557\u001b[0m, in \u001b[0;36mrequire_length_match\u001b[1;34m(data, index)\u001b[0m\n\u001b[0;32m    553\u001b[0m \u001b[38;5;124;03m\"\"\"\u001b[39;00m\n\u001b[0;32m    554\u001b[0m \u001b[38;5;124;03mCheck the length of data matches the length of the index.\u001b[39;00m\n\u001b[0;32m    555\u001b[0m \u001b[38;5;124;03m\"\"\"\u001b[39;00m\n\u001b[0;32m    556\u001b[0m \u001b[38;5;28;01mif\u001b[39;00m \u001b[38;5;28mlen\u001b[39m(data) \u001b[38;5;241m!=\u001b[39m \u001b[38;5;28mlen\u001b[39m(index):\n\u001b[1;32m--> 557\u001b[0m     \u001b[38;5;28;01mraise\u001b[39;00m \u001b[38;5;167;01mValueError\u001b[39;00m(\n\u001b[0;32m    558\u001b[0m         \u001b[38;5;124m\"\u001b[39m\u001b[38;5;124mLength of values \u001b[39m\u001b[38;5;124m\"\u001b[39m\n\u001b[0;32m    559\u001b[0m         \u001b[38;5;124mf\u001b[39m\u001b[38;5;124m\"\u001b[39m\u001b[38;5;124m(\u001b[39m\u001b[38;5;132;01m{\u001b[39;00m\u001b[38;5;28mlen\u001b[39m(data)\u001b[38;5;132;01m}\u001b[39;00m\u001b[38;5;124m) \u001b[39m\u001b[38;5;124m\"\u001b[39m\n\u001b[0;32m    560\u001b[0m         \u001b[38;5;124m\"\u001b[39m\u001b[38;5;124mdoes not match length of index \u001b[39m\u001b[38;5;124m\"\u001b[39m\n\u001b[0;32m    561\u001b[0m         \u001b[38;5;124mf\u001b[39m\u001b[38;5;124m\"\u001b[39m\u001b[38;5;124m(\u001b[39m\u001b[38;5;132;01m{\u001b[39;00m\u001b[38;5;28mlen\u001b[39m(index)\u001b[38;5;132;01m}\u001b[39;00m\u001b[38;5;124m)\u001b[39m\u001b[38;5;124m\"\u001b[39m\n\u001b[0;32m    562\u001b[0m     )\n",
      "\u001b[1;31mValueError\u001b[0m: Length of values (12) does not match length of index (6)"
     ]
    },
    {
     "data": {
      "image/png": "[encoded data removed]",
      "text/plain": [
       "<Figure size 432x288 with 1 Axes>"
      ]
     },
     "metadata": {
      "needs_background": "light"
     },
     "output_type": "display_data"
    }
   ],
   "source": [
    "# plot losses\n",
    "plt.plot(clf1_nopreproc.history['loss'])\n",
    "\n",
    "# plot accuracy\n",
    "plt.plot(clf1_nopreproc.history['train_accuracy'])\n",
    "plt.plot(clf1_nopreproc.history['valid_accuracy'])\n",
    "\n",
    "# find and plot feature importance\n",
    "y_pred = clf1_nopreproc.predict(x_test)\n",
    "clf1_nopreproc.feature_importances_\n",
    "feat_importances = pd.Series(clf1_nopreproc.feature_importances_, index=numerical_cols)\n",
    "feat_importances.nlargest(20).plot(kind='barh')\n",
    "\n",
    "\n",
    "# determine best accuracy for test set\n",
    "preds = clf1_nopreproc.predict(x_test)\n",
    "test_acc = accuracy_score(preds, y_test)\n",
    "\n",
    "# determine best accuracy for validation set\n",
    "preds_valid = clf1_nopreproc.predict(x_val)\n",
    "valid_acc = accuracy_score(preds_valid, y_val)\n",
    "\n",
    "print(f\"BEST ACCURACY SCORE ON VALIDATION SET : {valid_acc}\")\n",
    "print(f\"BEST ACCURACY SCORE ON TEST SET : {test_acc}\")"
   ]
  },
  {
   "cell_type": "code",
   "execution_count": 32,
   "id": "e2f0dc51",
   "metadata": {},
   "outputs": [
    {
     "name": "stdout",
     "output_type": "stream",
     "text": [
      "epoch 0  | loss: 20.13339| val_0_unsup_loss_numpy: 6.85398006439209|  0:00:06s\n",
      "epoch 1  | loss: 5.58679 | val_0_unsup_loss_numpy: 5.5601701736450195|  0:00:12s\n",
      "epoch 2  | loss: 5.41295 | val_0_unsup_loss_numpy: 6.004469871520996|  0:00:19s\n",
      "epoch 3  | loss: 5.20208 | val_0_unsup_loss_numpy: 5.522480010986328|  0:00:26s\n",
      "epoch 4  | loss: 4.95771 | val_0_unsup_loss_numpy: 5.056449890136719|  0:00:34s\n",
      "epoch 5  | loss: 4.72754 | val_0_unsup_loss_numpy: 4.752600193023682|  0:00:40s\n",
      "epoch 6  | loss: 4.40403 | val_0_unsup_loss_numpy: 4.421989917755127|  0:00:48s\n",
      "epoch 7  | loss: 4.052   | val_0_unsup_loss_numpy: 4.208390235900879|  0:00:55s\n",
      "epoch 8  | loss: 3.69177 | val_0_unsup_loss_numpy: 3.9624199867248535|  0:01:01s\n",
      "epoch 9  | loss: 3.28629 | val_0_unsup_loss_numpy: 3.727299928665161|  0:01:08s\n",
      "epoch 10 | loss: 2.92172 | val_0_unsup_loss_numpy: 3.5631399154663086|  0:01:14s\n",
      "epoch 11 | loss: 2.60942 | val_0_unsup_loss_numpy: 3.4153599739074707|  0:01:21s\n",
      "epoch 12 | loss: 2.29444 | val_0_unsup_loss_numpy: 3.602020025253296|  0:01:28s\n",
      "epoch 13 | loss: 1.98164 | val_0_unsup_loss_numpy: 3.344719886779785|  0:01:34s\n",
      "epoch 14 | loss: 1.73024 | val_0_unsup_loss_numpy: 3.5566799640655518|  0:01:40s\n",
      "epoch 15 | loss: 1.4755  | val_0_unsup_loss_numpy: 3.678489923477173|  0:01:47s\n",
      "epoch 16 | loss: 1.33443 | val_0_unsup_loss_numpy: 3.793410062789917|  0:01:54s\n",
      "epoch 17 | loss: 1.16925 | val_0_unsup_loss_numpy: 3.7280399799346924|  0:02:01s\n",
      "epoch 18 | loss: 1.01299 | val_0_unsup_loss_numpy: 3.783859968185425|  0:02:07s\n",
      "epoch 19 | loss: 0.9738  | val_0_unsup_loss_numpy: 3.658489942550659|  0:02:14s\n",
      "epoch 20 | loss: 0.9364  | val_0_unsup_loss_numpy: 3.965830087661743|  0:02:21s\n",
      "epoch 21 | loss: 0.88433 | val_0_unsup_loss_numpy: 3.8394899368286133|  0:02:29s\n",
      "epoch 22 | loss: 0.86652 | val_0_unsup_loss_numpy: 3.866420030593872|  0:02:36s\n",
      "epoch 23 | loss: 0.80932 | val_0_unsup_loss_numpy: 3.5820600986480713|  0:02:42s\n",
      "epoch 24 | loss: 0.79068 | val_0_unsup_loss_numpy: 4.065239906311035|  0:02:49s\n",
      "epoch 25 | loss: 0.8171  | val_0_unsup_loss_numpy: 3.114720106124878|  0:02:56s\n",
      "epoch 26 | loss: 0.78438 | val_0_unsup_loss_numpy: 3.9132800102233887|  0:03:03s\n",
      "epoch 27 | loss: 0.84128 | val_0_unsup_loss_numpy: 4.301119804382324|  0:03:11s\n",
      "epoch 28 | loss: 0.78366 | val_0_unsup_loss_numpy: 4.46737003326416|  0:03:18s\n",
      "epoch 29 | loss: 0.72505 | val_0_unsup_loss_numpy: 4.710440158843994|  0:03:25s\n",
      "epoch 30 | loss: 0.70586 | val_0_unsup_loss_numpy: 4.727519989013672|  0:03:33s\n",
      "epoch 31 | loss: 0.72203 | val_0_unsup_loss_numpy: 4.529980182647705|  0:03:40s\n",
      "epoch 32 | loss: 0.75237 | val_0_unsup_loss_numpy: 4.250140190124512|  0:03:46s\n",
      "epoch 33 | loss: 0.70827 | val_0_unsup_loss_numpy: 4.784850120544434|  0:03:53s\n",
      "epoch 34 | loss: 0.70982 | val_0_unsup_loss_numpy: 4.327360153198242|  0:04:00s\n",
      "epoch 35 | loss: 0.74953 | val_0_unsup_loss_numpy: 4.4243998527526855|  0:04:07s\n",
      "epoch 36 | loss: 0.72142 | val_0_unsup_loss_numpy: 4.222660064697266|  0:04:15s\n",
      "epoch 37 | loss: 0.69985 | val_0_unsup_loss_numpy: 4.560379981994629|  0:04:21s\n",
      "epoch 38 | loss: 0.78552 | val_0_unsup_loss_numpy: 4.047070026397705|  0:04:28s\n",
      "epoch 39 | loss: 0.76477 | val_0_unsup_loss_numpy: 4.674650192260742|  0:04:34s\n",
      "epoch 40 | loss: 0.71212 | val_0_unsup_loss_numpy: 4.44005012512207|  0:04:41s\n",
      "epoch 41 | loss: 0.66005 | val_0_unsup_loss_numpy: 2.444269895553589|  0:04:48s\n",
      "epoch 42 | loss: 0.76436 | val_0_unsup_loss_numpy: 2.0352001190185547|  0:04:55s\n",
      "epoch 43 | loss: 0.67523 | val_0_unsup_loss_numpy: 3.353480100631714|  0:05:02s\n",
      "epoch 44 | loss: 0.70963 | val_0_unsup_loss_numpy: 3.6681699752807617|  0:05:08s\n",
      "epoch 45 | loss: 0.70717 | val_0_unsup_loss_numpy: 4.631470203399658|  0:05:15s\n",
      "epoch 46 | loss: 0.7564  | val_0_unsup_loss_numpy: 3.7263801097869873|  0:05:22s\n",
      "epoch 47 | loss: 0.70665 | val_0_unsup_loss_numpy: 3.8361899852752686|  0:05:29s\n",
      "epoch 48 | loss: 0.68037 | val_0_unsup_loss_numpy: 4.1087799072265625|  0:05:36s\n",
      "epoch 49 | loss: 0.69321 | val_0_unsup_loss_numpy: 3.0648200511932373|  0:05:43s\n",
      "epoch 50 | loss: 0.69322 | val_0_unsup_loss_numpy: 2.409709930419922|  0:05:50s\n",
      "epoch 51 | loss: 0.64499 | val_0_unsup_loss_numpy: 2.478869915008545|  0:05:57s\n",
      "epoch 52 | loss: 0.68859 | val_0_unsup_loss_numpy: 2.5409600734710693|  0:06:05s\n",
      "epoch 53 | loss: 0.67514 | val_0_unsup_loss_numpy: 2.658090114593506|  0:06:12s\n",
      "epoch 54 | loss: 0.71701 | val_0_unsup_loss_numpy: 3.5469400882720947|  0:06:23s\n",
      "epoch 55 | loss: 0.70315 | val_0_unsup_loss_numpy: 2.0525500774383545|  0:06:31s\n",
      "epoch 56 | loss: 0.67192 | val_0_unsup_loss_numpy: 1.5612599849700928|  0:06:39s\n",
      "epoch 57 | loss: 0.67899 | val_0_unsup_loss_numpy: 1.5891000032424927|  0:06:46s\n",
      "epoch 58 | loss: 0.6565  | val_0_unsup_loss_numpy: 2.0980100631713867|  0:06:53s\n",
      "epoch 59 | loss: 0.64504 | val_0_unsup_loss_numpy: 1.4325100183486938|  0:07:00s\n",
      "epoch 60 | loss: 0.64531 | val_0_unsup_loss_numpy: 1.8088300228118896|  0:07:08s\n",
      "epoch 61 | loss: 0.6931  | val_0_unsup_loss_numpy: 2.696320056915283|  0:07:15s\n",
      "epoch 62 | loss: 0.63657 | val_0_unsup_loss_numpy: 1.868340015411377|  0:07:22s\n",
      "epoch 63 | loss: 0.6725  | val_0_unsup_loss_numpy: 2.1858301162719727|  0:07:29s\n",
      "epoch 64 | loss: 0.66491 | val_0_unsup_loss_numpy: 2.336790084838867|  0:07:36s\n",
      "epoch 65 | loss: 0.63702 | val_0_unsup_loss_numpy: 2.2250900268554688|  0:07:43s\n",
      "epoch 66 | loss: 0.67336 | val_0_unsup_loss_numpy: 2.3741700649261475|  0:07:51s\n",
      "epoch 67 | loss: 0.64718 | val_0_unsup_loss_numpy: 2.4303500652313232|  0:07:58s\n",
      "epoch 68 | loss: 0.64571 | val_0_unsup_loss_numpy: 2.641940116882324|  0:08:05s\n",
      "epoch 69 | loss: 0.62941 | val_0_unsup_loss_numpy: 2.33732008934021|  0:08:13s\n",
      "epoch 70 | loss: 0.62358 | val_0_unsup_loss_numpy: 2.4904699325561523|  0:08:20s\n",
      "epoch 71 | loss: 0.64579 | val_0_unsup_loss_numpy: 2.610229969024658|  0:08:28s\n",
      "epoch 72 | loss: 0.63699 | val_0_unsup_loss_numpy: 3.0636000633239746|  0:08:35s\n",
      "epoch 73 | loss: 0.63443 | val_0_unsup_loss_numpy: 2.3307299613952637|  0:08:43s\n",
      "epoch 74 | loss: 0.61341 | val_0_unsup_loss_numpy: 3.5525999069213867|  0:08:50s\n",
      "epoch 75 | loss: 0.62431 | val_0_unsup_loss_numpy: 3.1301400661468506|  0:08:57s\n",
      "epoch 76 | loss: 0.63065 | val_0_unsup_loss_numpy: 2.9387400150299072|  0:09:05s\n",
      "epoch 77 | loss: 0.66001 | val_0_unsup_loss_numpy: 2.3382699489593506|  0:09:12s\n",
      "epoch 78 | loss: 0.6075  | val_0_unsup_loss_numpy: 3.657020092010498|  0:09:19s\n",
      "epoch 79 | loss: 0.61758 | val_0_unsup_loss_numpy: 2.4458301067352295|  0:09:27s\n",
      "epoch 80 | loss: 0.5981  | val_0_unsup_loss_numpy: 2.9688799381256104|  0:09:34s\n",
      "epoch 81 | loss: 0.61235 | val_0_unsup_loss_numpy: 3.0368499755859375|  0:09:41s\n",
      "epoch 82 | loss: 0.63192 | val_0_unsup_loss_numpy: 2.9392199516296387|  0:09:48s\n",
      "epoch 83 | loss: 0.60149 | val_0_unsup_loss_numpy: 2.696280002593994|  0:09:56s\n",
      "epoch 84 | loss: 0.6082  | val_0_unsup_loss_numpy: 2.6526899337768555|  0:10:03s\n",
      "epoch 85 | loss: 0.61868 | val_0_unsup_loss_numpy: 3.172529935836792|  0:10:10s\n",
      "epoch 86 | loss: 0.60817 | val_0_unsup_loss_numpy: 2.947779893875122|  0:10:17s\n",
      "epoch 87 | loss: 0.6135  | val_0_unsup_loss_numpy: 3.093019962310791|  0:10:25s\n",
      "epoch 88 | loss: 0.60073 | val_0_unsup_loss_numpy: 3.5309700965881348|  0:10:32s\n",
      "epoch 89 | loss: 0.6062  | val_0_unsup_loss_numpy: 3.3508799076080322|  0:10:39s\n",
      "epoch 90 | loss: 0.59428 | val_0_unsup_loss_numpy: 2.9147400856018066|  0:10:46s\n",
      "epoch 91 | loss: 0.6121  | val_0_unsup_loss_numpy: 3.403140068054199|  0:10:54s\n",
      "epoch 92 | loss: 0.59272 | val_0_unsup_loss_numpy: 3.0489799976348877|  0:11:01s\n",
      "epoch 93 | loss: 0.59544 | val_0_unsup_loss_numpy: 3.1616899967193604|  0:11:08s\n",
      "epoch 94 | loss: 0.60163 | val_0_unsup_loss_numpy: 2.7222399711608887|  0:11:17s\n",
      "epoch 95 | loss: 0.59185 | val_0_unsup_loss_numpy: 3.194700002670288|  0:11:24s\n",
      "epoch 96 | loss: 0.58822 | val_0_unsup_loss_numpy: 3.2200798988342285|  0:11:32s\n",
      "epoch 97 | loss: 0.6027  | val_0_unsup_loss_numpy: 2.971709966659546|  0:11:40s\n",
      "epoch 98 | loss: 0.60145 | val_0_unsup_loss_numpy: 3.0738399028778076|  0:11:47s\n",
      "epoch 99 | loss: 0.58427 | val_0_unsup_loss_numpy: 3.4600799083709717|  0:11:55s\n",
      "epoch 100| loss: 0.60047 | val_0_unsup_loss_numpy: 3.5481600761413574|  0:12:02s\n",
      "epoch 101| loss: 0.59217 | val_0_unsup_loss_numpy: 3.1705000400543213|  0:12:09s\n"
     ]
    },
    {
     "name": "stdout",
     "output_type": "stream",
     "text": [
      "epoch 102| loss: 0.59233 | val_0_unsup_loss_numpy: 3.2829999923706055|  0:12:16s\n",
      "epoch 103| loss: 0.59685 | val_0_unsup_loss_numpy: 3.0646800994873047|  0:12:24s\n",
      "epoch 104| loss: 0.59129 | val_0_unsup_loss_numpy: 2.8478899002075195|  0:12:31s\n",
      "epoch 105| loss: 0.58997 | val_0_unsup_loss_numpy: 3.324359893798828|  0:12:39s\n",
      "epoch 106| loss: 0.58856 | val_0_unsup_loss_numpy: 3.4442200660705566|  0:12:46s\n",
      "epoch 107| loss: 0.58733 | val_0_unsup_loss_numpy: 2.9062299728393555|  0:12:53s\n",
      "epoch 108| loss: 0.6025  | val_0_unsup_loss_numpy: 3.5076100826263428|  0:13:00s\n",
      "epoch 109| loss: 0.58702 | val_0_unsup_loss_numpy: 3.3370399475097656|  0:13:08s\n",
      "\n",
      "Early stopping occurred at epoch 109 with best_epoch = 59 and best_val_0_unsup_loss_numpy = 1.4325100183486938\n",
      "Successfully saved model at ./test_pretrain2.zip\n"
     ]
    }
   ],
   "source": [
    "from pytorch_tabnet.pretraining import TabNetPretrainer\n",
    "\n",
    "# TabNetPretrainer\n",
    "unsupervised_model_no_preproc = TabNetPretrainer(\n",
    "    optimizer_fn=torch.optim.Adam,\n",
    "    optimizer_params=dict(lr=2e-2),\n",
    "    mask_type='entmax', # \"sparsemax\",\n",
    "    )\n",
    "\n",
    "# fit the model\n",
    "unsupervised_model_no_preproc.fit(\n",
    "    x_train,\n",
    "    eval_set=[x_val],\n",
    "    max_epochs=1000 , patience=50,\n",
    "    batch_size=256, virtual_batch_size=128,\n",
    "    num_workers=0,\n",
    "    drop_last=False,\n",
    "    pretraining_ratio=0.8,\n",
    "\n",
    ")\n",
    "\n",
    "# Make reconstruction from a dataset\n",
    "reconstructed_X, embedded_X = unsupervised_model_no_preproc.predict(x_val)\n",
    "assert(reconstructed_X.shape==embedded_X.shape)\n",
    "\n",
    "unsupervised_model_no_preproc.save_model('./test_pretrain2')\n",
    "loaded_pretrain = TabNetPretrainer()\n",
    "loaded_pretrain.load_model('./test_pretrain2.zip')"
   ]
  },
  {
   "cell_type": "code",
   "execution_count": null,
   "id": "34f5f2f8",
   "metadata": {},
   "outputs": [],
   "source": []
  }
 ],
 "metadata": {
  "kernelspec": {
   "display_name": "Python 3 (ipykernel)",
   "language": "python",
   "name": "python3"
  },
  "language_info": {
   "codemirror_mode": {
    "name": "ipython",
    "version": 3
   },
   "file_extension": ".py",
   "mimetype": "text/x-python",
   "name": "python",
   "nbconvert_exporter": "python",
   "pygments_lexer": "ipython3",
   "version": "3.9.12"
  }
 },
 "nbformat": 4,
 "nbformat_minor": 5
}
