{
 "cells": [
  {
   "cell_type": "code",
   "execution_count": 1,
   "id": "03089e34",
   "metadata": {},
   "outputs": [],
   "source": [
    "import numpy as np\n",
    "import pandas as pd\n",
    "\n",
    "import warnings\n",
    "warnings.filterwarnings('ignore')"
   ]
  },
  {
   "cell_type": "code",
   "execution_count": 2,
   "id": "28901863",
   "metadata": {},
   "outputs": [],
   "source": [
    "data = pd.read_csv(\"cardio_train.csv\")"
   ]
  },
  {
   "cell_type": "code",
   "execution_count": 3,
   "id": "de737d4c",
   "metadata": {},
   "outputs": [
    {
     "data": {
      "text/html": [
       "<div>\n",
       "<style scoped>\n",
       "    .dataframe tbody tr th:only-of-type {\n",
       "        vertical-align: middle;\n",
       "    }\n",
       "\n",
       "    .dataframe tbody tr th {\n",
       "        vertical-align: top;\n",
       "    }\n",
       "\n",
       "    .dataframe thead th {\n",
       "        text-align: right;\n",
       "    }\n",
       "</style>\n",
       "<table border=\"1\" class=\"dataframe\">\n",
       "  <thead>\n",
       "    <tr style=\"text-align: right;\">\n",
       "      <th></th>\n",
       "      <th>id</th>\n",
       "      <th>age</th>\n",
       "      <th>gender</th>\n",
       "      <th>height</th>\n",
       "      <th>weight</th>\n",
       "      <th>ap_hi</th>\n",
       "      <th>ap_lo</th>\n",
       "      <th>cholesterol</th>\n",
       "      <th>gluc</th>\n",
       "      <th>smoke</th>\n",
       "      <th>alco</th>\n",
       "      <th>active</th>\n",
       "      <th>cardio</th>\n",
       "      <th>output</th>\n",
       "    </tr>\n",
       "  </thead>\n",
       "  <tbody>\n",
       "    <tr>\n",
       "      <th>0</th>\n",
       "      <td>0</td>\n",
       "      <td>18393</td>\n",
       "      <td>2</td>\n",
       "      <td>168</td>\n",
       "      <td>62</td>\n",
       "      <td>0</td>\n",
       "      <td>110</td>\n",
       "      <td>80</td>\n",
       "      <td>1</td>\n",
       "      <td>1</td>\n",
       "      <td>0</td>\n",
       "      <td>0</td>\n",
       "      <td>1</td>\n",
       "      <td>0</td>\n",
       "    </tr>\n",
       "    <tr>\n",
       "      <th>1</th>\n",
       "      <td>1</td>\n",
       "      <td>20228</td>\n",
       "      <td>1</td>\n",
       "      <td>156</td>\n",
       "      <td>85</td>\n",
       "      <td>0</td>\n",
       "      <td>140</td>\n",
       "      <td>90</td>\n",
       "      <td>3</td>\n",
       "      <td>1</td>\n",
       "      <td>0</td>\n",
       "      <td>0</td>\n",
       "      <td>1</td>\n",
       "      <td>1</td>\n",
       "    </tr>\n",
       "    <tr>\n",
       "      <th>2</th>\n",
       "      <td>2</td>\n",
       "      <td>18857</td>\n",
       "      <td>1</td>\n",
       "      <td>165</td>\n",
       "      <td>64</td>\n",
       "      <td>0</td>\n",
       "      <td>130</td>\n",
       "      <td>70</td>\n",
       "      <td>3</td>\n",
       "      <td>1</td>\n",
       "      <td>0</td>\n",
       "      <td>0</td>\n",
       "      <td>0</td>\n",
       "      <td>1</td>\n",
       "    </tr>\n",
       "    <tr>\n",
       "      <th>3</th>\n",
       "      <td>3</td>\n",
       "      <td>17623</td>\n",
       "      <td>2</td>\n",
       "      <td>169</td>\n",
       "      <td>82</td>\n",
       "      <td>0</td>\n",
       "      <td>150</td>\n",
       "      <td>100</td>\n",
       "      <td>1</td>\n",
       "      <td>1</td>\n",
       "      <td>0</td>\n",
       "      <td>0</td>\n",
       "      <td>1</td>\n",
       "      <td>1</td>\n",
       "    </tr>\n",
       "    <tr>\n",
       "      <th>4</th>\n",
       "      <td>4</td>\n",
       "      <td>17474</td>\n",
       "      <td>1</td>\n",
       "      <td>156</td>\n",
       "      <td>56</td>\n",
       "      <td>0</td>\n",
       "      <td>100</td>\n",
       "      <td>60</td>\n",
       "      <td>1</td>\n",
       "      <td>1</td>\n",
       "      <td>0</td>\n",
       "      <td>0</td>\n",
       "      <td>0</td>\n",
       "      <td>0</td>\n",
       "    </tr>\n",
       "  </tbody>\n",
       "</table>\n",
       "</div>"
      ],
      "text/plain": [
       "   id    age  gender  height  weight  ap_hi  ap_lo  cholesterol  gluc  smoke  \\\n",
       "0   0  18393       2     168      62      0    110           80     1      1   \n",
       "1   1  20228       1     156      85      0    140           90     3      1   \n",
       "2   2  18857       1     165      64      0    130           70     3      1   \n",
       "3   3  17623       2     169      82      0    150          100     1      1   \n",
       "4   4  17474       1     156      56      0    100           60     1      1   \n",
       "\n",
       "   alco  active  cardio  output  \n",
       "0     0       0       1       0  \n",
       "1     0       0       1       1  \n",
       "2     0       0       0       1  \n",
       "3     0       0       1       1  \n",
       "4     0       0       0       0  "
      ]
     },
     "execution_count": 3,
     "metadata": {},
     "output_type": "execute_result"
    }
   ],
   "source": [
    "data.head()"
   ]
  },
  {
   "cell_type": "code",
   "execution_count": 4,
   "id": "db3ea830",
   "metadata": {},
   "outputs": [],
   "source": [
    "data[\"age\"] = round(data[\"age\"] / 365)"
   ]
  },
  {
   "cell_type": "code",
   "execution_count": 5,
   "id": "96a989ed",
   "metadata": {},
   "outputs": [
    {
     "data": {
      "text/html": [
       "<div>\n",
       "<style scoped>\n",
       "    .dataframe tbody tr th:only-of-type {\n",
       "        vertical-align: middle;\n",
       "    }\n",
       "\n",
       "    .dataframe tbody tr th {\n",
       "        vertical-align: top;\n",
       "    }\n",
       "\n",
       "    .dataframe thead th {\n",
       "        text-align: right;\n",
       "    }\n",
       "</style>\n",
       "<table border=\"1\" class=\"dataframe\">\n",
       "  <thead>\n",
       "    <tr style=\"text-align: right;\">\n",
       "      <th></th>\n",
       "      <th>id</th>\n",
       "      <th>age</th>\n",
       "      <th>gender</th>\n",
       "      <th>height</th>\n",
       "      <th>weight</th>\n",
       "      <th>ap_hi</th>\n",
       "      <th>ap_lo</th>\n",
       "      <th>cholesterol</th>\n",
       "      <th>gluc</th>\n",
       "      <th>smoke</th>\n",
       "      <th>alco</th>\n",
       "      <th>active</th>\n",
       "      <th>cardio</th>\n",
       "      <th>output</th>\n",
       "    </tr>\n",
       "  </thead>\n",
       "  <tbody>\n",
       "    <tr>\n",
       "      <th>0</th>\n",
       "      <td>0</td>\n",
       "      <td>50.0</td>\n",
       "      <td>2</td>\n",
       "      <td>168</td>\n",
       "      <td>62</td>\n",
       "      <td>0</td>\n",
       "      <td>110</td>\n",
       "      <td>80</td>\n",
       "      <td>1</td>\n",
       "      <td>1</td>\n",
       "      <td>0</td>\n",
       "      <td>0</td>\n",
       "      <td>1</td>\n",
       "      <td>0</td>\n",
       "    </tr>\n",
       "    <tr>\n",
       "      <th>1</th>\n",
       "      <td>1</td>\n",
       "      <td>55.0</td>\n",
       "      <td>1</td>\n",
       "      <td>156</td>\n",
       "      <td>85</td>\n",
       "      <td>0</td>\n",
       "      <td>140</td>\n",
       "      <td>90</td>\n",
       "      <td>3</td>\n",
       "      <td>1</td>\n",
       "      <td>0</td>\n",
       "      <td>0</td>\n",
       "      <td>1</td>\n",
       "      <td>1</td>\n",
       "    </tr>\n",
       "    <tr>\n",
       "      <th>2</th>\n",
       "      <td>2</td>\n",
       "      <td>52.0</td>\n",
       "      <td>1</td>\n",
       "      <td>165</td>\n",
       "      <td>64</td>\n",
       "      <td>0</td>\n",
       "      <td>130</td>\n",
       "      <td>70</td>\n",
       "      <td>3</td>\n",
       "      <td>1</td>\n",
       "      <td>0</td>\n",
       "      <td>0</td>\n",
       "      <td>0</td>\n",
       "      <td>1</td>\n",
       "    </tr>\n",
       "    <tr>\n",
       "      <th>3</th>\n",
       "      <td>3</td>\n",
       "      <td>48.0</td>\n",
       "      <td>2</td>\n",
       "      <td>169</td>\n",
       "      <td>82</td>\n",
       "      <td>0</td>\n",
       "      <td>150</td>\n",
       "      <td>100</td>\n",
       "      <td>1</td>\n",
       "      <td>1</td>\n",
       "      <td>0</td>\n",
       "      <td>0</td>\n",
       "      <td>1</td>\n",
       "      <td>1</td>\n",
       "    </tr>\n",
       "    <tr>\n",
       "      <th>4</th>\n",
       "      <td>4</td>\n",
       "      <td>48.0</td>\n",
       "      <td>1</td>\n",
       "      <td>156</td>\n",
       "      <td>56</td>\n",
       "      <td>0</td>\n",
       "      <td>100</td>\n",
       "      <td>60</td>\n",
       "      <td>1</td>\n",
       "      <td>1</td>\n",
       "      <td>0</td>\n",
       "      <td>0</td>\n",
       "      <td>0</td>\n",
       "      <td>0</td>\n",
       "    </tr>\n",
       "  </tbody>\n",
       "</table>\n",
       "</div>"
      ],
      "text/plain": [
       "   id   age  gender  height  weight  ap_hi  ap_lo  cholesterol  gluc  smoke  \\\n",
       "0   0  50.0       2     168      62      0    110           80     1      1   \n",
       "1   1  55.0       1     156      85      0    140           90     3      1   \n",
       "2   2  52.0       1     165      64      0    130           70     3      1   \n",
       "3   3  48.0       2     169      82      0    150          100     1      1   \n",
       "4   4  48.0       1     156      56      0    100           60     1      1   \n",
       "\n",
       "   alco  active  cardio  output  \n",
       "0     0       0       1       0  \n",
       "1     0       0       1       1  \n",
       "2     0       0       0       1  \n",
       "3     0       0       1       1  \n",
       "4     0       0       0       0  "
      ]
     },
     "execution_count": 5,
     "metadata": {},
     "output_type": "execute_result"
    }
   ],
   "source": [
    "data.head()"
   ]
  },
  {
   "cell_type": "code",
   "execution_count": 6,
   "id": "adcc4b29",
   "metadata": {},
   "outputs": [
    {
     "data": {
      "text/plain": [
       "(70000, 14)"
      ]
     },
     "execution_count": 6,
     "metadata": {},
     "output_type": "execute_result"
    }
   ],
   "source": [
    "data.shape"
   ]
  },
  {
   "cell_type": "code",
   "execution_count": 50,
   "id": "de08c1d3",
   "metadata": {},
   "outputs": [
    {
     "data": {
      "text/plain": [
       "0"
      ]
     },
     "execution_count": 50,
     "metadata": {},
     "output_type": "execute_result"
    }
   ],
   "source": [
    "data.isnull().sum().sum()"
   ]
  },
  {
   "cell_type": "code",
   "execution_count": 8,
   "id": "c5e6577b",
   "metadata": {},
   "outputs": [
    {
     "data": {
      "text/plain": [
       "id             0\n",
       "age            0\n",
       "gender         0\n",
       "height         0\n",
       "weight         0\n",
       "ap_hi          0\n",
       "ap_lo          0\n",
       "cholesterol    0\n",
       "gluc           0\n",
       "smoke          0\n",
       "alco           0\n",
       "active         0\n",
       "cardio         0\n",
       "output         0\n",
       "dtype: int64"
      ]
     },
     "execution_count": 8,
     "metadata": {},
     "output_type": "execute_result"
    }
   ],
   "source": [
    "data.isnull().sum()"
   ]
  },
  {
   "cell_type": "code",
   "execution_count": 9,
   "id": "f92d9e08",
   "metadata": {},
   "outputs": [],
   "source": [
    "import matplotlib.pyplot as plt\n",
    "import seaborn as sns"
   ]
  },
  {
   "cell_type": "markdown",
   "id": "11966327",
   "metadata": {},
   "source": [
    "# Outlier Detection and Remove"
   ]
  },
  {
   "cell_type": "code",
   "execution_count": 10,
   "id": "39e73d67",
   "metadata": {},
   "outputs": [],
   "source": [
    "def outlier(coloumn):\n",
    "    Q1 = coloumn.quantile(0.25)\n",
    "    Q3 = coloumn.quantile(0.75)\n",
    "    IQR = Q3 - Q1\n",
    "    whisker_width = 1.5\n",
    "    lower_whisker = Q1 -(whisker_width*IQR)\n",
    "    upper_whisker = Q3 + (whisker_width*IQR)\n",
    "    coloumn=np.where(coloumn>upper_whisker,upper_whisker,np.where(coloumn<lower_whisker,lower_whisker,coloumn))\n",
    "#     sns.boxplot(coloumn)\n",
    "    return coloumn"
   ]
  },
  {
   "cell_type": "code",
   "execution_count": 11,
   "id": "7d2eae29",
   "metadata": {},
   "outputs": [
    {
     "name": "stdout",
     "output_type": "stream",
     "text": [
      "        age  gender  height  weight  ap_hi  ap_lo  cholesterol  gluc  smoke  \\\n",
      "0      50.0       2     168      62      0    110           80     1      1   \n",
      "1      55.0       1     156      85      0    140           90     3      1   \n",
      "2      52.0       1     165      64      0    130           70     3      1   \n",
      "3      48.0       2     169      82      0    150          100     1      1   \n",
      "4      48.0       1     156      56      0    100           60     1      1   \n",
      "...     ...     ...     ...     ...    ...    ...          ...   ...    ...   \n",
      "69995  53.0       2     168      76      0    120           80     1      1   \n",
      "69996  62.0       1     158     126      0    140           90     2      2   \n",
      "69997  52.0       2     183     105      0    180           90     3      1   \n",
      "69998  61.0       1     163      72      0    135           80     1      2   \n",
      "69999  56.0       1     170      72      0    120           80     2      1   \n",
      "\n",
      "       alco  active  cardio  \n",
      "0         0       0       1  \n",
      "1         0       0       1  \n",
      "2         0       0       0  \n",
      "3         0       0       1  \n",
      "4         0       0       0  \n",
      "...     ...     ...     ...  \n",
      "69995     1       0       1  \n",
      "69996     0       0       1  \n",
      "69997     0       1       0  \n",
      "69998     0       0       0  \n",
      "69999     0       0       1  \n",
      "\n",
      "[70000 rows x 12 columns]\n"
     ]
    }
   ],
   "source": [
    "X=data.iloc[:,1:-1]\n",
    "y=data.iloc[:,-1:]\n",
    "print(X)"
   ]
  },
  {
   "cell_type": "code",
   "execution_count": 12,
   "id": "24053b72",
   "metadata": {},
   "outputs": [],
   "source": [
    "# data['weight'] = outlier(data['weight'])"
   ]
  },
  {
   "cell_type": "code",
   "execution_count": 13,
   "id": "fbf09d84",
   "metadata": {},
   "outputs": [],
   "source": [
    "# sns.boxplot(data['weight'])"
   ]
  },
  {
   "cell_type": "code",
   "execution_count": 14,
   "id": "8dc4f191",
   "metadata": {},
   "outputs": [],
   "source": [
    "for i in data.iloc[:,1:-1]:\n",
    "    data[i] = outlier(data[i])"
   ]
  },
  {
   "cell_type": "code",
   "execution_count": 15,
   "id": "ec92e09a",
   "metadata": {},
   "outputs": [
    {
     "data": {
      "text/plain": [
       "<AxesSubplot:xlabel='ap_lo'>"
      ]
     },
     "execution_count": 15,
     "metadata": {},
     "output_type": "execute_result"
    },
    {
     "data": {
      "image/png": "[encoded data removed]",
      "text/plain": [
       "<Figure size 432x288 with 1 Axes>"
      ]
     },
     "metadata": {
      "needs_background": "light"
     },
     "output_type": "display_data"
    }
   ],
   "source": [
    "sns.boxplot(data['ap_lo']) "
   ]
  },
  {
   "cell_type": "markdown",
   "id": "6a975015",
   "metadata": {},
   "source": [
    "# Stratified K-fold Cross Validation"
   ]
  },
  {
   "cell_type": "code",
   "execution_count": 16,
   "id": "2d4d069e",
   "metadata": {},
   "outputs": [],
   "source": [
    "# from sklearn.model_selection import StratifiedKFold\n",
    "# from sklearn.model_selection import cross_val_score\n",
    "# from sklearn.tree import DecisionTreeClassifier\n",
    "# from sklearn.ensemble import RandomForestClassifier\n",
    "\n",
    "\n",
    "# skfold=StratifiedKFold(n_splits=10)\n",
    "# model=DecisionTreeClassifier()\n",
    "# scores=cross_val_score(model,X,y,cv=skfold)\n",
    "# print(np.mean(scores))"
   ]
  },
  {
   "cell_type": "code",
   "execution_count": 18,
   "id": "fe78870f",
   "metadata": {},
   "outputs": [],
   "source": [
    "# model.fit(X_train, y_train)"
   ]
  },
  {
   "cell_type": "code",
   "execution_count": 19,
   "id": "219b41ed",
   "metadata": {},
   "outputs": [],
   "source": [
    "# y_pred = model.predict(X_test)"
   ]
  },
  {
   "cell_type": "code",
   "execution_count": 20,
   "id": "746b2bbd",
   "metadata": {},
   "outputs": [],
   "source": [
    "# from sklearn.metrics import accuracy_score\n",
    "# print (\"Accuracy : \", accuracy_score(y_test, y_pred)) "
   ]
  },
  {
   "cell_type": "code",
   "execution_count": 21,
   "id": "f9eafe82",
   "metadata": {},
   "outputs": [],
   "source": [
    "# from sklearn.metrics import confusion_matrix\n",
    "# cm = confusion_matrix(y_test, y_pred) \n",
    "# print (\"Confusion Matrix : \\n\", cm) "
   ]
  },
  {
   "cell_type": "code",
   "execution_count": 22,
   "id": "3d7d8dbd",
   "metadata": {},
   "outputs": [
    {
     "name": "stdout",
     "output_type": "stream",
     "text": [
      "0.6349857142857143\n"
     ]
    }
   ],
   "source": [
    "skfold=StratifiedKFold(n_splits=5)\n",
    "model=DecisionTreeClassifier()\n",
    "scores=cross_val_score(model,X,y,cv=skfold)\n",
    "print(np.mean(scores))"
   ]
  },
  {
   "cell_type": "code",
   "execution_count": 23,
   "id": "111c731c",
   "metadata": {},
   "outputs": [],
   "source": [
    "from sklearn.model_selection import train_test_split\n",
    "X_train, X_test, y_train, y_test = train_test_split(X, y,test_size = 0.2, random_state=42)"
   ]
  },
  {
   "cell_type": "code",
   "execution_count": 24,
   "id": "567eb1be",
   "metadata": {},
   "outputs": [],
   "source": [
    "from sklearn.preprocessing import StandardScaler,MinMaxScaler\n",
    "min_max_scaler = MinMaxScaler()"
   ]
  },
  {
   "cell_type": "code",
   "execution_count": 25,
   "id": "1d648ebe",
   "metadata": {},
   "outputs": [],
   "source": [
    "X_train = min_max_scaler.fit_transform(X_train)\n",
    "X_test = min_max_scaler.fit_transform(X_test)"
   ]
  },
  {
   "cell_type": "code",
   "execution_count": 26,
   "id": "31ee1a0b",
   "metadata": {},
   "outputs": [
    {
     "data": {
      "text/plain": [
       "RandomForestClassifier()"
      ]
     },
     "execution_count": 26,
     "metadata": {},
     "output_type": "execute_result"
    }
   ],
   "source": [
    "model = RandomForestClassifier() \n",
    "model.fit(X_train, y_train)"
   ]
  },
  {
   "cell_type": "code",
   "execution_count": 27,
   "id": "55b1078a",
   "metadata": {},
   "outputs": [],
   "source": [
    "y_pred = model.predict(X_test)"
   ]
  },
  {
   "cell_type": "code",
   "execution_count": 28,
   "id": "5e853de5",
   "metadata": {},
   "outputs": [
    {
     "name": "stdout",
     "output_type": "stream",
     "text": [
      "Accuracy :  0.564\n"
     ]
    }
   ],
   "source": [
    "from sklearn.metrics import accuracy_score,classification_report \n",
    "print (\"Accuracy : \", accuracy_score(y_test, y_pred)) "
   ]
  },
  {
   "cell_type": "code",
   "execution_count": 29,
   "id": "92c52095",
   "metadata": {},
   "outputs": [
    {
     "name": "stdout",
     "output_type": "stream",
     "text": [
      "0.7064142857142858\n"
     ]
    }
   ],
   "source": [
    "# from sklearn.model_selection import StratifiedKFold\n",
    "# from sklearn.model_selection import cross_val_score\n",
    "# from sklearn import preprocessing\n",
    "# from sklearn.ensemble import RandomForestClassifier\n",
    "\n",
    "\n",
    "# skfold=StratifiedKFold(n_splits=10, shuffle=True, random_state=1)\n",
    "# model = RandomForestClassifier() \n",
    "# scores=cross_val_score(model,X,y,cv=skfold)\n",
    "# print(np.mean(scores))"
   ]
  },
  {
   "cell_type": "code",
   "execution_count": 37,
   "id": "45d266d5",
   "metadata": {},
   "outputs": [],
   "source": [
    "# from sklearn.model_selection import StratifiedKFold\n",
    "# from sklearn.model_selection import cross_val_score\n",
    "# from sklearn import preprocessing\n",
    "# from sklearn.ensemble import RandomForestClassifier\n",
    "# from statistics import mean, stdev\n",
    "\n",
    "# skfold=StratifiedKFold(n_splits=10, shuffle=True, random_state=1)\n",
    "# lst_accu_stratified = []\n",
    "# model = RandomForestClassifier()\n",
    "\n",
    "# scaler = preprocessing.MinMaxScaler()\n",
    "# x_scaled = scaler.fit_transform(X)\n",
    "# lr = RandomForestClassifier()\n",
    "# scores=cross_val_score(model,X,y,cv=skfold)\n",
    "\n",
    "# for train_index, test_index in skfold.split(X, y):\n",
    "#     x_train_fold, x_test_fold = x_scaled[train_index], x_scaled[test_index]\n",
    "#     y_train_fold, y_test_fold = y[train_index], y[test_index]\n",
    "#     lr.fit(x_train_fold, y_train_fold)\n",
    "#     lst_accu_stratified.append(lr.score(x_test_fold, y_test_fold))\n",
    "    \n"
   ]
  },
  {
   "cell_type": "code",
   "execution_count": 38,
   "id": "c1b9cc76",
   "metadata": {},
   "outputs": [],
   "source": [
    "# print(np.mean(scores))\n",
    "\n",
    "# print('List of possible accuracy:', lst_accu_stratified)\n",
    "# print('\\nMaximum Accuracy That can be obtained from this model is:',\n",
    "#       max(lst_accu_stratified)*100, '%')\n",
    "# print('\\nMinimum Accuracy:',\n",
    "#       min(lst_accu_stratified)*100, '%')\n",
    "# print('\\nOverall Accuracy:',\n",
    "#       mean(lst_accu_stratified)*100, '%')\n",
    "# print('\\nStandard Deviation is:', stdev(lst_accu_stratified))"
   ]
  },
  {
   "cell_type": "code",
   "execution_count": 44,
   "id": "3d442cda",
   "metadata": {},
   "outputs": [],
   "source": [
    "skf = StratifiedKFold(n_splits=10, shuffle=True, random_state=1)\n",
    "\n",
    "def training(train, test, fold_no):\n",
    "  x_train = data.iloc[:,1:-1]\n",
    "  y_train = data.iloc[:,-1:]\n",
    "  x_test = data.iloc[:,1:-1]\n",
    "  y_test = data.iloc[:,-1:]\n",
    "  model.fit(x_train, y_train)\n",
    "  score = model.score(x_test,y_test)\n",
    "  print('For Fold {} the accuracy is {}'.format(str(fold_no),score))"
   ]
  },
  {
   "cell_type": "code",
   "execution_count": 45,
   "id": "d7d6d394",
   "metadata": {},
   "outputs": [],
   "source": [
    "from sklearn.ensemble import RandomForestClassifier\n",
    "\n",
    "model = RandomForestClassifier()"
   ]
  },
  {
   "cell_type": "code",
   "execution_count": 47,
   "id": "7d3d894e",
   "metadata": {},
   "outputs": [
    {
     "name": "stdout",
     "output_type": "stream",
     "text": [
      "For Fold 1 the accuracy is 0.9574571428571429\n",
      "For Fold 2 the accuracy is 0.9574857142857143\n",
      "For Fold 3 the accuracy is 0.9574714285714285\n",
      "For Fold 4 the accuracy is 0.9574714285714285\n",
      "For Fold 5 the accuracy is 0.9574714285714285\n",
      "For Fold 6 the accuracy is 0.9574571428571429\n",
      "For Fold 7 the accuracy is 0.9574857142857143\n",
      "For Fold 8 the accuracy is 0.9574428571428572\n",
      "For Fold 9 the accuracy is 0.9575\n",
      "For Fold 10 the accuracy is 0.9574571428571429\n"
     ]
    }
   ],
   "source": [
    "fold_no = 1\n",
    "for train_index,test_index in skf.split(X, y):\n",
    "  train = data.iloc[train_index,:]\n",
    "  test = data.iloc[test_index,:]\n",
    "  training(train, test, fold_no)\n",
    "  fold_no += 1"
   ]
  },
  {
   "cell_type": "code",
   "execution_count": 49,
   "id": "3e29e432",
   "metadata": {},
   "outputs": [
    {
     "data": {
      "text/plain": [
       "(70000, 14)"
      ]
     },
     "execution_count": 49,
     "metadata": {},
     "output_type": "execute_result"
    }
   ],
   "source": []
  },
  {
   "cell_type": "code",
   "execution_count": null,
   "id": "f128f131",
   "metadata": {},
   "outputs": [],
   "source": []
  }
 ],
 "metadata": {
  "kernelspec": {
   "display_name": "Python 3 (ipykernel)",
   "language": "python",
   "name": "python3"
  },
  "language_info": {
   "codemirror_mode": {
    "name": "ipython",
    "version": 3
   },
   "file_extension": ".py",
   "mimetype": "text/x-python",
   "name": "python",
   "nbconvert_exporter": "python",
   "pygments_lexer": "ipython3",
   "version": "3.9.12"
  }
 },
 "nbformat": 4,
 "nbformat_minor": 5
}
